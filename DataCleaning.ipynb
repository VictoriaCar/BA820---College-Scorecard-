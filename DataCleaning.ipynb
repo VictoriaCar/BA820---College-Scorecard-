{
  "nbformat": 4,
  "nbformat_minor": 0,
  "metadata": {
    "colab": {
      "provenance": [],
      "include_colab_link": true
    },
    "kernelspec": {
      "name": "python3",
      "display_name": "Python 3"
    },
    "language_info": {
      "name": "python"
    }
  },
  "cells": [
    {
      "cell_type": "markdown",
      "metadata": {
        "id": "view-in-github",
        "colab_type": "text"
      },
      "source": [
        "<a href=\"https://colab.research.google.com/github/VictoriaCar/BA820---College-Scorecard-/blob/main/DataCleaning.ipynb\" target=\"_parent\"><img src=\"https://colab.research.google.com/assets/colab-badge.svg\" alt=\"Open In Colab\"/></a>"
      ]
    },
    {
      "cell_type": "code",
      "source": [
        "from google.colab import drive\n",
        "drive.mount('/content/drive')"
      ],
      "metadata": {
        "colab": {
          "base_uri": "https://localhost:8080/"
        },
        "id": "e7c-Iw6_fWCg",
        "outputId": "531fb73b-b663-4cb5-eb26-a09ece12e6c0"
      },
      "execution_count": 1,
      "outputs": [
        {
          "output_type": "stream",
          "name": "stdout",
          "text": [
            "Mounted at /content/drive\n"
          ]
        }
      ]
    },
    {
      "cell_type": "code",
      "execution_count": 13,
      "metadata": {
        "colab": {
          "base_uri": "https://localhost:8080/"
        },
        "id": "N_Z_zNNqfBqa",
        "outputId": "a053b63c-5b3d-4a5e-aa36-ccd87e2da9d8"
      },
      "outputs": [
        {
          "output_type": "stream",
          "name": "stderr",
          "text": [
            "<ipython-input-13-bbde9d07bddf>:4: DtypeWarning: Columns (9,1725,1726,1727,1728,1729,1743,1815,1816,1817,1818,1823,1824,1830,1831,1879,1880,1881,1882,1883,1884,1885,1886,1887,1888,1889,1890,1891,1892,1893,1894,1895,1896,1897,1898,1909,1910,1911,1912,1913,1957,1958,1959,1960,1961,1962,1963,1964,1965,1966,1967,1968,1969,1970,1971,1972,1973,1974,1975,1976,1983,1984,2403,2404,2495,2496,2497,2498,2499,2500,2501,2502,2503,2504,2505,2506,2507,2508,2509,2510,2511,2512,2513,2514,2515,2516,2517,2518,2519,2520,2521,2522,2523,2524,2525,2526,2527,2528,2529,2530,3215,3231,3235,3236) have mixed types. Specify dtype option on import or set low_memory=False.\n",
            "  df = pd.read_csv(\"MERGED2022_23_PP.csv\")\n"
          ]
        },
        {
          "output_type": "stream",
          "name": "stdout",
          "text": [
            "Columns dropped: 2355\n",
            "New DataFrame shape: (6484, 950)\n"
          ]
        }
      ],
      "source": [
        "import pandas as pd\n",
        "\n",
        "#df = pd.read_csv(\"/content/drive/MyDrive/BA820 Project/MERGED2022_23_PP.csv\")\n",
        "df = pd.read_csv(\"MERGED2022_23_PP.csv\")\n",
        "df.head()\n",
        "df.shape\n",
        "\n",
        "# If a column has more than 50% missing values --> drop it\n",
        "missing_values = df.isnull().sum() / len(df) * 100\n",
        "cols_missing = missing_values[missing_values > 50]\n",
        "dropped_df = df.drop(columns = cols_missing.index)\n",
        "\n",
        "print(f\"Columns dropped: {len(cols_missing)}\")\n",
        "print(f\"New DataFrame shape: {dropped_df.shape}\")"
      ]
    },
    {
      "cell_type": "code",
      "source": [
        "import matplotlib.pyplot as plt\n",
        "import numpy as np\n",
        "\n",
        "# To visualize new distribution of missing values of our data\n",
        "missing_values = dropped_df.isnull().mean() * 100\n",
        "missing_values = missing_values[missing_values > 0].sort_values(ascending=False)\n",
        "\n",
        "plt.figure(figsize=(12, 6))\n",
        "missing_values.plot(kind=\"bar\", color=\"blue\")\n",
        "plt.xlabel(\"Columns\")\n",
        "plt.ylabel(\"Percentage of Missing Values\")\n",
        "plt.title(\"Missing Values Distribution by Column\")\n",
        "plt.xticks([])\n",
        "plt.show()\n"
      ],
      "metadata": {
        "colab": {
          "base_uri": "https://localhost:8080/",
          "height": 540
        },
        "id": "hd8rHV5bhTGD",
        "outputId": "f2745893-841b-486b-daf8-8fdb4c396c71"
      },
      "execution_count": 14,
      "outputs": [
        {
          "output_type": "display_data",
          "data": {
            "text/plain": [
              "<Figure size 1200x600 with 1 Axes>"
            ],
            "image/png": "[encoded data removed]"
          },
          "metadata": {}
        }
      ]
    },
    {
      "cell_type": "markdown",
      "source": [
        "By looking at the plot we see that we could probably drop all of the columns that have 40-50% missing values. After removing those, the missing value percentage of the columns left drop drastically to around 10%."
      ],
      "metadata": {
        "id": "MvKEYLCjjAAi"
      }
    },
    {
      "cell_type": "code",
      "source": [
        "# If a column has more than 50% missing values --> drop it\n",
        "missing_values_updates = dropped_df.isnull().sum() / len(dropped_df) * 100\n",
        "cols_missing_updates = missing_values_updates[missing_values_updates > 10]\n",
        "dropped2_df = dropped_df.drop(columns = cols_missing_updates.index)\n",
        "\n",
        "print(f\"Columns dropped: {len(cols_missing_updates)}\")\n",
        "print(f\"New DataFrame shape: {dropped2_df.shape}\")"
      ],
      "metadata": {
        "colab": {
          "base_uri": "https://localhost:8080/"
        },
        "id": "PfyQoWQ8i_Km",
        "outputId": "1655465a-ca0c-4aad-ed3e-f507a1c1b7b5"
      },
      "execution_count": 22,
      "outputs": [
        {
          "output_type": "stream",
          "name": "stdout",
          "text": [
            "Columns dropped: 300\n",
            "New DataFrame shape: (6484, 650)\n"
          ]
        }
      ]
    },
    {
      "cell_type": "code",
      "source": [
        "dropped2_df.isnull().sum()"
      ],
      "metadata": {
        "colab": {
          "base_uri": "https://localhost:8080/",
          "height": 458
        },
        "id": "Z6WcR0cJkkhl",
        "outputId": "d68780ed-e09e-4725-a4c6-4bc9b4b1904a"
      },
      "execution_count": 7,
      "outputs": [
        {
          "output_type": "execute_result",
          "data": {
            "text/plain": [
              "UNITID                          0\n",
              "OPEID                          26\n",
              "OPEID6                         26\n",
              "INSTNM                          0\n",
              "CITY                            0\n",
              "                             ... \n",
              "BBRR4_PP_NOMALE_MAKEPROG        0\n",
              "BBRR4_PP_NOMALE_PAIDINFULL      0\n",
              "BBRR4_PP_NOMALE_DISCHARGE       0\n",
              "CONTROL_PEPS                   30\n",
              "ADDR                          498\n",
              "Length: 650, dtype: int64"
            ],
            "text/html": [
              "<div>\n",
              "<style scoped>\n",
              "    .dataframe tbody tr th:only-of-type {\n",
              "        vertical-align: middle;\n",
              "    }\n",
              "\n",
              "    .dataframe tbody tr th {\n",
              "        vertical-align: top;\n",
              "    }\n",
              "\n",
              "    .dataframe thead th {\n",
              "        text-align: right;\n",
              "    }\n",
              "</style>\n",
              "<table border=\"1\" class=\"dataframe\">\n",
              "  <thead>\n",
              "    <tr style=\"text-align: right;\">\n",
              "      <th></th>\n",
              "      <th>0</th>\n",
              "    </tr>\n",
              "  </thead>\n",
              "  <tbody>\n",
              "    <tr>\n",
              "      <th>UNITID</th>\n",
              "      <td>0</td>\n",
              "    </tr>\n",
              "    <tr>\n",
              "      <th>OPEID</th>\n",
              "      <td>26</td>\n",
              "    </tr>\n",
              "    <tr>\n",
              "      <th>OPEID6</th>\n",
              "      <td>26</td>\n",
              "    </tr>\n",
              "    <tr>\n",
              "      <th>INSTNM</th>\n",
              "      <td>0</td>\n",
              "    </tr>\n",
              "    <tr>\n",
              "      <th>CITY</th>\n",
              "      <td>0</td>\n",
              "    </tr>\n",
              "    <tr>\n",
              "      <th>...</th>\n",
              "      <td>...</td>\n",
              "    </tr>\n",
              "    <tr>\n",
              "      <th>BBRR4_PP_NOMALE_MAKEPROG</th>\n",
              "      <td>0</td>\n",
              "    </tr>\n",
              "    <tr>\n",
              "      <th>BBRR4_PP_NOMALE_PAIDINFULL</th>\n",
              "      <td>0</td>\n",
              "    </tr>\n",
              "    <tr>\n",
              "      <th>BBRR4_PP_NOMALE_DISCHARGE</th>\n",
              "      <td>0</td>\n",
              "    </tr>\n",
              "    <tr>\n",
              "      <th>CONTROL_PEPS</th>\n",
              "      <td>30</td>\n",
              "    </tr>\n",
              "    <tr>\n",
              "      <th>ADDR</th>\n",
              "      <td>498</td>\n",
              "    </tr>\n",
              "  </tbody>\n",
              "</table>\n",
              "<p>650 rows × 1 columns</p>\n",
              "</div><br><label><b>dtype:</b> int64</label>"
            ]
          },
          "metadata": {},
          "execution_count": 7
        }
      ]
    },
    {
      "cell_type": "code",
      "source": [
        "#from sklearn.feature_selection import VarianceThreshold\n",
        "\n",
        "#dropped3_df = dropped2_df.copy()\n",
        "\n",
        "#df_numeric = dropped3_df.select_dtypes(include=[np.number])\n",
        "\n",
        "#selector = VarianceThreshold(threshold=0.01)\n",
        "#df_numeric_reduced = df_numeric[df_numeric.columns[selector.fit(df_numeric).get_support()]]\n",
        "\n",
        "#dropped3_df = dropped3_df.drop(columns=dropped3_df.columns).join(df_numeric_reduced)"
      ],
      "metadata": {
        "id": "xWD3FpmDdO7V"
      },
      "execution_count": 16,
      "outputs": []
    },
    {
      "cell_type": "code",
      "source": [
        "#print(f\"New DataFrame shape: {dropped3_df.shape}\")\n",
        "\n",
        "\n",
        "#print(dropped3_df.columns.tolist())\n"
      ],
      "metadata": {
        "colab": {
          "base_uri": "https://localhost:8080/"
        },
        "id": "m1Z1TnVveGE3",
        "outputId": "4b6fdb0f-bf80-4bac-bef3-776ece962dd4"
      },
      "execution_count": 18,
      "outputs": [
        {
          "output_type": "stream",
          "name": "stdout",
          "text": [
            "New DataFrame shape: (6484, 650)\n",
            "['UNITID', 'OPEID', 'OPEID6', 'INSTNM', 'CITY', 'STABBR', 'ZIP', 'ACCREDAGENCY', 'INSTURL', 'NPCURL', 'HCM2', 'MAIN', 'NUMBRANCH', 'PREDDEG', 'HIGHDEG', 'CONTROL', 'ST_FIPS', 'REGION', 'LOCALE', 'LATITUDE', 'LONGITUDE', 'CCBASIC', 'CCUGPROF', 'CCSIZSET', 'HBCU', 'PBI', 'ANNHI', 'TRIBAL', 'AANAPII', 'HSI', 'NANTI', 'MENONLY', 'WOMENONLY', 'CIP01CERT1', 'CIP01CERT2', 'CIP01ASSOC', 'CIP01CERT4', 'CIP01BACHL', 'CIP03CERT1', 'CIP03CERT2', 'CIP03ASSOC', 'CIP03CERT4', 'CIP03BACHL', 'CIP04CERT1', 'CIP04CERT2', 'CIP04ASSOC', 'CIP04CERT4', 'CIP04BACHL', 'CIP05CERT1', 'CIP05CERT2', 'CIP05ASSOC', 'CIP05CERT4', 'CIP05BACHL', 'CIP09CERT1', 'CIP09CERT2', 'CIP09ASSOC', 'CIP09CERT4', 'CIP09BACHL', 'CIP10CERT1', 'CIP10CERT2', 'CIP10ASSOC', 'CIP10CERT4', 'CIP10BACHL', 'CIP11CERT1', 'CIP11CERT2', 'CIP11ASSOC', 'CIP11CERT4', 'CIP11BACHL', 'CIP12CERT1', 'CIP12CERT2', 'CIP12ASSOC', 'CIP12CERT4', 'CIP12BACHL', 'CIP13CERT1', 'CIP13CERT2', 'CIP13ASSOC', 'CIP13CERT4', 'CIP13BACHL', 'CIP14CERT1', 'CIP14CERT2', 'CIP14ASSOC', 'CIP14CERT4', 'CIP14BACHL', 'CIP15CERT1', 'CIP15CERT2', 'CIP15ASSOC', 'CIP15CERT4', 'CIP15BACHL', 'CIP16CERT1', 'CIP16CERT2', 'CIP16ASSOC', 'CIP16CERT4', 'CIP16BACHL', 'CIP19CERT1', 'CIP19CERT2', 'CIP19ASSOC', 'CIP19CERT4', 'CIP19BACHL', 'CIP22CERT1', 'CIP22CERT2', 'CIP22ASSOC', 'CIP22CERT4', 'CIP22BACHL', 'CIP23CERT1', 'CIP23CERT2', 'CIP23ASSOC', 'CIP23CERT4', 'CIP23BACHL', 'CIP24CERT1', 'CIP24CERT2', 'CIP24ASSOC', 'CIP24CERT4', 'CIP24BACHL', 'CIP25CERT1', 'CIP25CERT2', 'CIP25ASSOC', 'CIP25CERT4', 'CIP25BACHL', 'CIP26CERT1', 'CIP26CERT2', 'CIP26ASSOC', 'CIP26CERT4', 'CIP26BACHL', 'CIP27CERT1', 'CIP27CERT2', 'CIP27ASSOC', 'CIP27CERT4', 'CIP27BACHL', 'CIP29CERT1', 'CIP29CERT2', 'CIP29ASSOC', 'CIP29CERT4', 'CIP29BACHL', 'CIP30CERT1', 'CIP30CERT2', 'CIP30ASSOC', 'CIP30CERT4', 'CIP30BACHL', 'CIP31CERT1', 'CIP31CERT2', 'CIP31ASSOC', 'CIP31CERT4', 'CIP31BACHL', 'CIP38CERT1', 'CIP38CERT2', 'CIP38ASSOC', 'CIP38CERT4', 'CIP38BACHL', 'CIP39CERT1', 'CIP39CERT2', 'CIP39ASSOC', 'CIP39CERT4', 'CIP39BACHL', 'CIP40CERT1', 'CIP40CERT2', 'CIP40ASSOC', 'CIP40CERT4', 'CIP40BACHL', 'CIP41CERT1', 'CIP41CERT2', 'CIP41ASSOC', 'CIP41CERT4', 'CIP41BACHL', 'CIP42CERT1', 'CIP42CERT2', 'CIP42ASSOC', 'CIP42CERT4', 'CIP42BACHL', 'CIP43CERT1', 'CIP43CERT2', 'CIP43ASSOC', 'CIP43CERT4', 'CIP43BACHL', 'CIP44CERT1', 'CIP44CERT2', 'CIP44ASSOC', 'CIP44CERT4', 'CIP44BACHL', 'CIP45CERT1', 'CIP45CERT2', 'CIP45ASSOC', 'CIP45CERT4', 'CIP45BACHL', 'CIP46CERT1', 'CIP46CERT2', 'CIP46ASSOC', 'CIP46CERT4', 'CIP46BACHL', 'CIP47CERT1', 'CIP47CERT2', 'CIP47ASSOC', 'CIP47CERT4', 'CIP47BACHL', 'CIP48CERT1', 'CIP48CERT2', 'CIP48ASSOC', 'CIP48CERT4', 'CIP48BACHL', 'CIP49CERT1', 'CIP49CERT2', 'CIP49ASSOC', 'CIP49CERT4', 'CIP49BACHL', 'CIP50CERT1', 'CIP50CERT2', 'CIP50ASSOC', 'CIP50CERT4', 'CIP50BACHL', 'CIP51CERT1', 'CIP51CERT2', 'CIP51ASSOC', 'CIP51CERT4', 'CIP51BACHL', 'CIP52CERT1', 'CIP52CERT2', 'CIP52ASSOC', 'CIP52CERT4', 'CIP52BACHL', 'CIP54CERT1', 'CIP54CERT2', 'CIP54ASSOC', 'CIP54CERT4', 'CIP54BACHL', 'DISTANCEONLY', 'CURROPER', 'TUITFTE', 'INEXPFTE', 'ICLEVEL', 'T4APPROVALDATE', 'ACCREDCODE', 'SCHTYPE', 'OPEFLAG', 'BBRR1_FED_UG_N', 'BBRR1_FED_UG_DFLT', 'BBRR1_FED_UG_DLNQ', 'BBRR1_FED_UG_FBR', 'BBRR1_FED_UG_DFR', 'BBRR1_FED_UG_NOPROG', 'BBRR1_FED_UG_MAKEPROG', 'BBRR1_FED_UG_PAIDINFULL', 'BBRR1_FED_UG_DISCHARGE', 'BBRR1_FED_UGCOMP_N', 'BBRR1_FED_UGCOMP_DFLT', 'BBRR1_FED_UGCOMP_DLNQ', 'BBRR1_FED_UGCOMP_FBR', 'BBRR1_FED_UGCOMP_DFR', 'BBRR1_FED_UGCOMP_NOPROG', 'BBRR1_FED_UGCOMP_MAKEPROG', 'BBRR1_FED_UGCOMP_PAIDINFULL', 'BBRR1_FED_UGCOMP_DISCHARGE', 'BBRR1_FED_UGNOCOMP_N', 'BBRR1_FED_UGNOCOMP_DFLT', 'BBRR1_FED_UGNOCOMP_DLNQ', 'BBRR1_FED_UGNOCOMP_FBR', 'BBRR1_FED_UGNOCOMP_DFR', 'BBRR1_FED_UGNOCOMP_NOPROG', 'BBRR1_FED_UGNOCOMP_MAKEPROG', 'BBRR1_FED_UGNOCOMP_PAIDINFULL', 'BBRR1_FED_UGNOCOMP_DISCHARGE', 'BBRR1_FED_UGUNK_N', 'BBRR1_FED_UGUNK_DFLT', 'BBRR1_FED_UGUNK_DLNQ', 'BBRR1_FED_UGUNK_FBR', 'BBRR1_FED_UGUNK_DFR', 'BBRR1_FED_UGUNK_NOPROG', 'BBRR1_FED_UGUNK_MAKEPROG', 'BBRR1_FED_UGUNK_PAIDINFULL', 'BBRR1_FED_UGUNK_DISCHARGE', 'BBRR1_FED_GR_N', 'BBRR1_FED_GR_DFLT', 'BBRR1_FED_GR_DLNQ', 'BBRR1_FED_GR_FBR', 'BBRR1_FED_GR_DFR', 'BBRR1_FED_GR_NOPROG', 'BBRR1_FED_GR_MAKEPROG', 'BBRR1_FED_GR_PAIDINFULL', 'BBRR1_FED_GR_DISCHARGE', 'BBRR1_FED_GRCOMP_N', 'BBRR1_FED_GRCOMP_DFLT', 'BBRR1_FED_GRCOMP_DLNQ', 'BBRR1_FED_GRCOMP_FBR', 'BBRR1_FED_GRCOMP_DFR', 'BBRR1_FED_GRCOMP_NOPROG', 'BBRR1_FED_GRCOMP_MAKEPROG', 'BBRR1_FED_GRCOMP_PAIDINFULL', 'BBRR1_FED_GRCOMP_DISCHARGE', 'BBRR1_FED_GRNOCOMP_N', 'BBRR1_FED_GRNOCOMP_DFLT', 'BBRR1_FED_GRNOCOMP_DLNQ', 'BBRR1_FED_GRNOCOMP_FBR', 'BBRR1_FED_GRNOCOMP_DFR', 'BBRR1_FED_GRNOCOMP_NOPROG', 'BBRR1_FED_GRNOCOMP_MAKEPROG', 'BBRR1_FED_GRNOCOMP_PAIDINFULL', 'BBRR1_FED_GRNOCOMP_DISCHARGE', 'BBRR1_PP_UG_N', 'BBRR1_PP_UG_DFLT', 'BBRR1_PP_UG_DLNQ', 'BBRR1_PP_UG_FBR', 'BBRR1_PP_UG_DFR', 'BBRR1_PP_UG_NOPROG', 'BBRR1_PP_UG_MAKEPROG', 'BBRR1_PP_UG_PAIDINFULL', 'BBRR1_PP_UG_DISCHARGE', 'BBRR1_PP_UGCOMP_N', 'BBRR1_PP_UGCOMP_DFLT', 'BBRR1_PP_UGCOMP_DLNQ', 'BBRR1_PP_UGCOMP_FBR', 'BBRR1_PP_UGCOMP_DFR', 'BBRR1_PP_UGCOMP_NOPROG', 'BBRR1_PP_UGCOMP_MAKEPROG', 'BBRR1_PP_UGCOMP_PAIDINFULL', 'BBRR1_PP_UGCOMP_DISCHARGE', 'BBRR1_PP_UGNOCOMP_N', 'BBRR1_PP_UGNOCOMP_DFLT', 'BBRR1_PP_UGNOCOMP_DLNQ', 'BBRR1_PP_UGNOCOMP_FBR', 'BBRR1_PP_UGNOCOMP_DFR', 'BBRR1_PP_UGNOCOMP_NOPROG', 'BBRR1_PP_UGNOCOMP_MAKEPROG', 'BBRR1_PP_UGNOCOMP_PAIDINFULL', 'BBRR1_PP_UGNOCOMP_DISCHARGE', 'BBRR1_PP_UGUNK_N', 'BBRR1_PP_UGUNK_DFLT', 'BBRR1_PP_UGUNK_DLNQ', 'BBRR1_PP_UGUNK_FBR', 'BBRR1_PP_UGUNK_DFR', 'BBRR1_PP_UGUNK_NOPROG', 'BBRR1_PP_UGUNK_MAKEPROG', 'BBRR1_PP_UGUNK_PAIDINFULL', 'BBRR1_PP_UGUNK_DISCHARGE', 'FEDSCHCD', 'DOLPROVIDER', 'BBRR1_FED_IND_N', 'BBRR1_FED_IND_DFLT', 'BBRR1_FED_IND_DLNQ', 'BBRR1_FED_IND_FBR', 'BBRR1_FED_IND_DFR', 'BBRR1_FED_IND_NOPROG', 'BBRR1_FED_IND_MAKEPROG', 'BBRR1_FED_IND_PAIDINFULL', 'BBRR1_FED_IND_DISCHARGE', 'BBRR1_FED_DEP_N', 'BBRR1_FED_DEP_DFLT', 'BBRR1_FED_DEP_DLNQ', 'BBRR1_FED_DEP_FBR', 'BBRR1_FED_DEP_DFR', 'BBRR1_FED_DEP_NOPROG', 'BBRR1_FED_DEP_MAKEPROG', 'BBRR1_FED_DEP_PAIDINFULL', 'BBRR1_FED_DEP_DISCHARGE', 'BBRR1_FED_PELL_N', 'BBRR1_FED_PELL_DFLT', 'BBRR1_FED_PELL_DLNQ', 'BBRR1_FED_PELL_FBR', 'BBRR1_FED_PELL_DFR', 'BBRR1_FED_PELL_NOPROG', 'BBRR1_FED_PELL_MAKEPROG', 'BBRR1_FED_PELL_PAIDINFULL', 'BBRR1_FED_PELL_DISCHARGE', 'BBRR1_FED_NOPELL_N', 'BBRR1_FED_NOPELL_DFLT', 'BBRR1_FED_NOPELL_DLNQ', 'BBRR1_FED_NOPELL_FBR', 'BBRR1_FED_NOPELL_DFR', 'BBRR1_FED_NOPELL_NOPROG', 'BBRR1_FED_NOPELL_MAKEPROG', 'BBRR1_FED_NOPELL_PAIDINFULL', 'BBRR1_FED_NOPELL_DISCHARGE', 'BBRR1_FED_MALE_N', 'BBRR1_FED_MALE_DFLT', 'BBRR1_FED_MALE_DLNQ', 'BBRR1_FED_MALE_FBR', 'BBRR1_FED_MALE_DFR', 'BBRR1_FED_MALE_NOPROG', 'BBRR1_FED_MALE_MAKEPROG', 'BBRR1_FED_MALE_PAIDINFULL', 'BBRR1_FED_MALE_DISCHARGE', 'BBRR1_FED_NOMALE_N', 'BBRR1_FED_NOMALE_DFLT', 'BBRR1_FED_NOMALE_DLNQ', 'BBRR1_FED_NOMALE_FBR', 'BBRR1_FED_NOMALE_DFR', 'BBRR1_FED_NOMALE_NOPROG', 'BBRR1_FED_NOMALE_MAKEPROG', 'BBRR1_FED_NOMALE_PAIDINFULL', 'BBRR1_FED_NOMALE_DISCHARGE', 'BBRR1_PP_IND_N', 'BBRR1_PP_IND_DFLT', 'BBRR1_PP_IND_DLNQ', 'BBRR1_PP_IND_FBR', 'BBRR1_PP_IND_DFR', 'BBRR1_PP_IND_NOPROG', 'BBRR1_PP_IND_MAKEPROG', 'BBRR1_PP_IND_PAIDINFULL', 'BBRR1_PP_IND_DISCHARGE', 'BBRR1_PP_DEP_N', 'BBRR1_PP_DEP_DFLT', 'BBRR1_PP_DEP_DLNQ', 'BBRR1_PP_DEP_FBR', 'BBRR1_PP_DEP_DFR', 'BBRR1_PP_DEP_NOPROG', 'BBRR1_PP_DEP_MAKEPROG', 'BBRR1_PP_DEP_PAIDINFULL', 'BBRR1_PP_DEP_DISCHARGE', 'BBRR1_PP_PELL_N', 'BBRR1_PP_PELL_DFLT', 'BBRR1_PP_PELL_DLNQ', 'BBRR1_PP_PELL_FBR', 'BBRR1_PP_PELL_DFR', 'BBRR1_PP_PELL_NOPROG', 'BBRR1_PP_PELL_MAKEPROG', 'BBRR1_PP_PELL_PAIDINFULL', 'BBRR1_PP_PELL_DISCHARGE', 'BBRR1_PP_NOPELL_N', 'BBRR1_PP_NOPELL_DFLT', 'BBRR1_PP_NOPELL_DLNQ', 'BBRR1_PP_NOPELL_FBR', 'BBRR1_PP_NOPELL_DFR', 'BBRR1_PP_NOPELL_NOPROG', 'BBRR1_PP_NOPELL_MAKEPROG', 'BBRR1_PP_NOPELL_PAIDINFULL', 'BBRR1_PP_NOPELL_DISCHARGE', 'BBRR1_PP_MALE_N', 'BBRR1_PP_MALE_DFLT', 'BBRR1_PP_MALE_DLNQ', 'BBRR1_PP_MALE_FBR', 'BBRR1_PP_MALE_DFR', 'BBRR1_PP_MALE_NOPROG', 'BBRR1_PP_MALE_MAKEPROG', 'BBRR1_PP_MALE_PAIDINFULL', 'BBRR1_PP_MALE_DISCHARGE', 'BBRR1_PP_NOMALE_N', 'BBRR1_PP_NOMALE_DFLT', 'BBRR1_PP_NOMALE_DLNQ', 'BBRR1_PP_NOMALE_FBR', 'BBRR1_PP_NOMALE_DFR', 'BBRR1_PP_NOMALE_NOPROG', 'BBRR1_PP_NOMALE_MAKEPROG', 'BBRR1_PP_NOMALE_PAIDINFULL', 'BBRR1_PP_NOMALE_DISCHARGE', 'BBRR4_FED_UG_N', 'BBRR4_FED_UG_DFLT', 'BBRR4_FED_UG_DLNQ', 'BBRR4_FED_UG_FBR', 'BBRR4_FED_UG_DFR', 'BBRR4_FED_UG_NOPROG', 'BBRR4_FED_UG_MAKEPROG', 'BBRR4_FED_UG_PAIDINFULL', 'BBRR4_FED_UG_DISCHARGE', 'BBRR4_FED_UGCOMP_N', 'BBRR4_FED_UGCOMP_DFLT', 'BBRR4_FED_UGCOMP_DLNQ', 'BBRR4_FED_UGCOMP_FBR', 'BBRR4_FED_UGCOMP_DFR', 'BBRR4_FED_UGCOMP_NOPROG', 'BBRR4_FED_UGCOMP_MAKEPROG', 'BBRR4_FED_UGCOMP_PAIDINFULL', 'BBRR4_FED_UGCOMP_DISCHARGE', 'BBRR4_FED_UGNOCOMP_N', 'BBRR4_FED_UGNOCOMP_DFLT', 'BBRR4_FED_UGNOCOMP_DLNQ', 'BBRR4_FED_UGNOCOMP_FBR', 'BBRR4_FED_UGNOCOMP_DFR', 'BBRR4_FED_UGNOCOMP_NOPROG', 'BBRR4_FED_UGNOCOMP_MAKEPROG', 'BBRR4_FED_UGNOCOMP_PAIDINFULL', 'BBRR4_FED_UGNOCOMP_DISCHARGE', 'BBRR4_FED_UGUNK_N', 'BBRR4_FED_UGUNK_DFLT', 'BBRR4_FED_UGUNK_DLNQ', 'BBRR4_FED_UGUNK_FBR', 'BBRR4_FED_UGUNK_DFR', 'BBRR4_FED_UGUNK_NOPROG', 'BBRR4_FED_UGUNK_MAKEPROG', 'BBRR4_FED_UGUNK_PAIDINFULL', 'BBRR4_FED_UGUNK_DISCHARGE', 'BBRR4_FED_GR_N', 'BBRR4_FED_GR_DFLT', 'BBRR4_FED_GR_DLNQ', 'BBRR4_FED_GR_FBR', 'BBRR4_FED_GR_DFR', 'BBRR4_FED_GR_NOPROG', 'BBRR4_FED_GR_MAKEPROG', 'BBRR4_FED_GR_PAIDINFULL', 'BBRR4_FED_GR_DISCHARGE', 'BBRR4_FED_GRCOMP_N', 'BBRR4_FED_GRCOMP_DFLT', 'BBRR4_FED_GRCOMP_DLNQ', 'BBRR4_FED_GRCOMP_FBR', 'BBRR4_FED_GRCOMP_DFR', 'BBRR4_FED_GRCOMP_NOPROG', 'BBRR4_FED_GRCOMP_MAKEPROG', 'BBRR4_FED_GRCOMP_PAIDINFULL', 'BBRR4_FED_GRCOMP_DISCHARGE', 'BBRR4_FED_GRNOCOMP_N', 'BBRR4_FED_GRNOCOMP_DFLT', 'BBRR4_FED_GRNOCOMP_DLNQ', 'BBRR4_FED_GRNOCOMP_FBR', 'BBRR4_FED_GRNOCOMP_DFR', 'BBRR4_FED_GRNOCOMP_NOPROG', 'BBRR4_FED_GRNOCOMP_MAKEPROG', 'BBRR4_FED_GRNOCOMP_PAIDINFULL', 'BBRR4_FED_GRNOCOMP_DISCHARGE', 'BBRR4_PP_UG_N', 'BBRR4_PP_UG_DFLT', 'BBRR4_PP_UG_DLNQ', 'BBRR4_PP_UG_FBR', 'BBRR4_PP_UG_DFR', 'BBRR4_PP_UG_NOPROG', 'BBRR4_PP_UG_MAKEPROG', 'BBRR4_PP_UG_PAIDINFULL', 'BBRR4_PP_UG_DISCHARGE', 'BBRR4_PP_UGCOMP_N', 'BBRR4_PP_UGCOMP_DFLT', 'BBRR4_PP_UGCOMP_DLNQ', 'BBRR4_PP_UGCOMP_FBR', 'BBRR4_PP_UGCOMP_DFR', 'BBRR4_PP_UGCOMP_NOPROG', 'BBRR4_PP_UGCOMP_MAKEPROG', 'BBRR4_PP_UGCOMP_PAIDINFULL', 'BBRR4_PP_UGCOMP_DISCHARGE', 'BBRR4_PP_UGNOCOMP_N', 'BBRR4_PP_UGNOCOMP_DFLT', 'BBRR4_PP_UGNOCOMP_DLNQ', 'BBRR4_PP_UGNOCOMP_FBR', 'BBRR4_PP_UGNOCOMP_DFR', 'BBRR4_PP_UGNOCOMP_NOPROG', 'BBRR4_PP_UGNOCOMP_MAKEPROG', 'BBRR4_PP_UGNOCOMP_PAIDINFULL', 'BBRR4_PP_UGNOCOMP_DISCHARGE', 'BBRR4_PP_UGUNK_N', 'BBRR4_PP_UGUNK_DFLT', 'BBRR4_PP_UGUNK_DLNQ', 'BBRR4_PP_UGUNK_FBR', 'BBRR4_PP_UGUNK_DFR', 'BBRR4_PP_UGUNK_NOPROG', 'BBRR4_PP_UGUNK_MAKEPROG', 'BBRR4_PP_UGUNK_PAIDINFULL', 'BBRR4_PP_UGUNK_DISCHARGE', 'BBRR4_FED_IND_N', 'BBRR4_FED_IND_DFLT', 'BBRR4_FED_IND_DLNQ', 'BBRR4_FED_IND_FBR', 'BBRR4_FED_IND_DFR', 'BBRR4_FED_IND_NOPROG', 'BBRR4_FED_IND_MAKEPROG', 'BBRR4_FED_IND_PAIDINFULL', 'BBRR4_FED_IND_DISCHARGE', 'BBRR4_FED_DEP_N', 'BBRR4_FED_DEP_DFLT', 'BBRR4_FED_DEP_DLNQ', 'BBRR4_FED_DEP_FBR', 'BBRR4_FED_DEP_DFR', 'BBRR4_FED_DEP_NOPROG', 'BBRR4_FED_DEP_MAKEPROG', 'BBRR4_FED_DEP_PAIDINFULL', 'BBRR4_FED_DEP_DISCHARGE', 'BBRR4_FED_PELL_N', 'BBRR4_FED_PELL_DFLT', 'BBRR4_FED_PELL_DLNQ', 'BBRR4_FED_PELL_FBR', 'BBRR4_FED_PELL_DFR', 'BBRR4_FED_PELL_NOPROG', 'BBRR4_FED_PELL_MAKEPROG', 'BBRR4_FED_PELL_PAIDINFULL', 'BBRR4_FED_PELL_DISCHARGE', 'BBRR4_FED_NOPELL_N', 'BBRR4_FED_NOPELL_DFLT', 'BBRR4_FED_NOPELL_DLNQ', 'BBRR4_FED_NOPELL_FBR', 'BBRR4_FED_NOPELL_DFR', 'BBRR4_FED_NOPELL_NOPROG', 'BBRR4_FED_NOPELL_MAKEPROG', 'BBRR4_FED_NOPELL_PAIDINFULL', 'BBRR4_FED_NOPELL_DISCHARGE', 'BBRR4_FED_MALE_N', 'BBRR4_FED_MALE_DFLT', 'BBRR4_FED_MALE_DLNQ', 'BBRR4_FED_MALE_FBR', 'BBRR4_FED_MALE_DFR', 'BBRR4_FED_MALE_NOPROG', 'BBRR4_FED_MALE_MAKEPROG', 'BBRR4_FED_MALE_PAIDINFULL', 'BBRR4_FED_MALE_DISCHARGE', 'BBRR4_FED_NOMALE_N', 'BBRR4_FED_NOMALE_DFLT', 'BBRR4_FED_NOMALE_DLNQ', 'BBRR4_FED_NOMALE_FBR', 'BBRR4_FED_NOMALE_DFR', 'BBRR4_FED_NOMALE_NOPROG', 'BBRR4_FED_NOMALE_MAKEPROG', 'BBRR4_FED_NOMALE_PAIDINFULL', 'BBRR4_FED_NOMALE_DISCHARGE', 'BBRR4_PP_IND_N', 'BBRR4_PP_IND_DFLT', 'BBRR4_PP_IND_DLNQ', 'BBRR4_PP_IND_FBR', 'BBRR4_PP_IND_DFR', 'BBRR4_PP_IND_NOPROG', 'BBRR4_PP_IND_MAKEPROG', 'BBRR4_PP_IND_PAIDINFULL', 'BBRR4_PP_IND_DISCHARGE', 'BBRR4_PP_DEP_N', 'BBRR4_PP_DEP_DFLT', 'BBRR4_PP_DEP_DLNQ', 'BBRR4_PP_DEP_FBR', 'BBRR4_PP_DEP_DFR', 'BBRR4_PP_DEP_NOPROG', 'BBRR4_PP_DEP_MAKEPROG', 'BBRR4_PP_DEP_PAIDINFULL', 'BBRR4_PP_DEP_DISCHARGE', 'BBRR4_PP_PELL_N', 'BBRR4_PP_PELL_DFLT', 'BBRR4_PP_PELL_DLNQ', 'BBRR4_PP_PELL_FBR', 'BBRR4_PP_PELL_DFR', 'BBRR4_PP_PELL_NOPROG', 'BBRR4_PP_PELL_MAKEPROG', 'BBRR4_PP_PELL_PAIDINFULL', 'BBRR4_PP_PELL_DISCHARGE', 'BBRR4_PP_NOPELL_N', 'BBRR4_PP_NOPELL_DFLT', 'BBRR4_PP_NOPELL_DLNQ', 'BBRR4_PP_NOPELL_FBR', 'BBRR4_PP_NOPELL_DFR', 'BBRR4_PP_NOPELL_NOPROG', 'BBRR4_PP_NOPELL_MAKEPROG', 'BBRR4_PP_NOPELL_PAIDINFULL', 'BBRR4_PP_NOPELL_DISCHARGE', 'BBRR4_PP_MALE_N', 'BBRR4_PP_MALE_DFLT', 'BBRR4_PP_MALE_DLNQ', 'BBRR4_PP_MALE_FBR', 'BBRR4_PP_MALE_DFR', 'BBRR4_PP_MALE_NOPROG', 'BBRR4_PP_MALE_MAKEPROG', 'BBRR4_PP_MALE_PAIDINFULL', 'BBRR4_PP_MALE_DISCHARGE', 'BBRR4_PP_NOMALE_N', 'BBRR4_PP_NOMALE_DFLT', 'BBRR4_PP_NOMALE_DLNQ', 'BBRR4_PP_NOMALE_FBR', 'BBRR4_PP_NOMALE_DFR', 'BBRR4_PP_NOMALE_NOPROG', 'BBRR4_PP_NOMALE_MAKEPROG', 'BBRR4_PP_NOMALE_PAIDINFULL', 'BBRR4_PP_NOMALE_DISCHARGE', 'CONTROL_PEPS', 'ADDR']\n"
          ]
        }
      ]
    },
    {
      "cell_type": "code",
      "source": [
        "selected_columns = [\n",
        "    # Institutional Characteristics\n",
        "    'CONTROL',  # Type of institution control: Public (1), Private nonprofit (2), Private for-profit (3)\n",
        "    'REGION',  # Geographic region of the institution (e.g., New England, Midwest, etc.)\n",
        "    'LOCALE',  # Degree of urbanization: City, Suburb, Town, Rural classification\n",
        "    'CCBASIC',  # Carnegie Classification of the institution's basic category\n",
        "    'CCUGPROF',  # Carnegie Classification of undergraduate instructional program\n",
        "    'CCSIZSET',  # Carnegie Classification based on institution size and setting\n",
        "\n",
        "    # Academic Offerings\n",
        "    'PREDDEG',  # Predominant degree awarded (Associate's, Bachelor's, etc.)\n",
        "    'HIGHDEG',  # Highest degree awarded at the institution\n",
        "\n",
        "    # Financial Information\n",
        "    'TUITFTE',  # Tuition and fees per full-time equivalent student\n",
        "    'INEXPFTE',  # Instructional expenses per full-time equivalent student\n",
        "\n",
        "    # Student Outcomes - Loan Repayment and Default Rates (1-Year Follow-Up)\n",
        "    'BBRR1_FED_UG_N',  # Number of undergraduate borrowers in federal loan cohort\n",
        "    'BBRR1_FED_UG_DFLT',  # Number of undergraduate borrowers who defaulted on their loans\n",
        "    'BBRR1_FED_UG_DLNQ',  # Number of undergraduate borrowers delinquent on their loans\n",
        "    'BBRR1_FED_UG_FBR',  # Number of undergraduate borrowers in forbearance\n",
        "    'BBRR1_FED_UG_DFR',  # Number of undergraduate borrowers in deferment\n",
        "    'BBRR1_FED_UG_NOPROG',  # Number of undergraduate borrowers not making progress on repayment\n",
        "    'BBRR1_FED_UG_MAKEPROG',  # Number of undergraduate borrowers making progress on repayment\n",
        "    'BBRR1_FED_UG_PAIDINFULL',  # Number of undergraduate borrowers who paid loans in full\n",
        "    'BBRR1_FED_UG_DISCHARGE',  # Number of undergraduate borrowers whose loans were discharged\n",
        "\n",
        "    # Student Outcomes - Loan Repayment and Default Rates (4-Year Follow-Up)\n",
        "    'BBRR4_FED_UG_N',  # Number of undergraduate borrowers in federal loan cohort (4 years later)\n",
        "    'BBRR4_FED_UG_DFLT',  # Number of undergraduate borrowers who defaulted on their loans (4 years later)\n",
        "    'BBRR4_FED_UG_DLNQ',  # Number of undergraduate borrowers delinquent on their loans (4 years later)\n",
        "    'BBRR4_FED_UG_FBR',  # Number of undergraduate borrowers in forbearance (4 years later)\n",
        "    'BBRR4_FED_UG_DFR',  # Number of undergraduate borrowers in deferment (4 years later)\n",
        "    'BBRR4_FED_UG_NOPROG',  # Number of undergraduate borrowers not making progress on repayment (4 years later)\n",
        "    'BBRR4_FED_UG_MAKEPROG',  # Number of undergraduate borrowers making progress on repayment (4 years later)\n",
        "    'BBRR4_FED_UG_PAIDINFULL',  # Number of undergraduate borrowers who paid loans in full (4 years later)\n",
        "    'BBRR4_FED_UG_DISCHARGE',  # Number of undergraduate borrowers whose loans were discharged (4 years later)\n",
        "\n",
        "    # Diversity & Inclusivity - Minority-Serving Institutions\n",
        "    #'HBCU',  # Historically Black Colleges and Universities (1 = Yes, 0 = No)\n",
        "    #'PBI',  # Predominantly Black Institutions (1 = Yes, 0 = No)\n",
        "    #'ANNHI',  # Alaska Native and Native Hawaiian-Serving Institutions (1 = Yes, 0 = No)\n",
        "    #'TRIBAL',  # Tribal Colleges and Universities (1 = Yes, 0 = No)\n",
        "    #'AANAPII',  # Asian American and Native American Pacific Islander-Serving Institutions (1 = Yes, 0 = No)\n",
        "    #'HSI',  # Hispanic-Serving Institutions (1 = Yes, 0 = No)\n",
        "    #'NANTI',  # Native American-Serving Non-Tribal Institutions (1 = Yes, 0 = No)\n",
        "\n",
        "    # Gender-Based Institution Classification\n",
        "    #'MENONLY',  # Whether the institution only enrolls men (1 = Yes, 0 = No)\n",
        "    #'WOMENONLY'  # Whether the institution only enrolls women (1 = Yes, 0 = No)\n",
        "]\n",
        "\n",
        "\n",
        "\n",
        "filtered_df = dropped2_df[selected_columns]\n",
        "\n",
        "print(filtered_df.columns.tolist())\n",
        "print(f\"New DataFrame shape: {filtered_df.shape}\")\n"
      ],
      "metadata": {
        "colab": {
          "base_uri": "https://localhost:8080/"
        },
        "id": "IPwBt28nOGQ-",
        "outputId": "16169934-c8e2-4b8b-b3a4-0f5857254f38"
      },
      "execution_count": 43,
      "outputs": [
        {
          "output_type": "stream",
          "name": "stdout",
          "text": [
            "['CONTROL', 'REGION', 'LOCALE', 'CCBASIC', 'CCUGPROF', 'CCSIZSET', 'PREDDEG', 'HIGHDEG', 'TUITFTE', 'INEXPFTE', 'BBRR1_FED_UG_N', 'BBRR1_FED_UG_DFLT', 'BBRR1_FED_UG_DLNQ', 'BBRR1_FED_UG_FBR', 'BBRR1_FED_UG_DFR', 'BBRR1_FED_UG_NOPROG', 'BBRR1_FED_UG_MAKEPROG', 'BBRR1_FED_UG_PAIDINFULL', 'BBRR1_FED_UG_DISCHARGE', 'BBRR4_FED_UG_N', 'BBRR4_FED_UG_DFLT', 'BBRR4_FED_UG_DLNQ', 'BBRR4_FED_UG_FBR', 'BBRR4_FED_UG_DFR', 'BBRR4_FED_UG_NOPROG', 'BBRR4_FED_UG_MAKEPROG', 'BBRR4_FED_UG_PAIDINFULL', 'BBRR4_FED_UG_DISCHARGE']\n",
            "New DataFrame shape: (6484, 28)\n"
          ]
        }
      ]
    },
    {
      "cell_type": "markdown",
      "source": [
        "## This is the link to the chat prompt that extracted the columns:\n",
        "https://chatgpt.com/c/67b1fc08-f6ec-800a-a423-aa1a9c4a5863"
      ],
      "metadata": {
        "id": "aU-we0vaOaXH"
      }
    },
    {
      "cell_type": "code",
      "source": [
        "filtered_df.isnull().sum()"
      ],
      "metadata": {
        "colab": {
          "base_uri": "https://localhost:8080/",
          "height": 962
        },
        "id": "kznrDruNSq3w",
        "outputId": "4bbce5af-bf5d-40c9-c131-25ba77b6b2e6"
      },
      "execution_count": 44,
      "outputs": [
        {
          "output_type": "execute_result",
          "data": {
            "text/plain": [
              "CONTROL                      0\n",
              "REGION                       0\n",
              "LOCALE                     495\n",
              "CCBASIC                    495\n",
              "CCUGPROF                   495\n",
              "CCSIZSET                   495\n",
              "PREDDEG                      0\n",
              "HIGHDEG                      0\n",
              "TUITFTE                    524\n",
              "INEXPFTE                   524\n",
              "BBRR1_FED_UG_N               0\n",
              "BBRR1_FED_UG_DFLT            0\n",
              "BBRR1_FED_UG_DLNQ            0\n",
              "BBRR1_FED_UG_FBR             0\n",
              "BBRR1_FED_UG_DFR             0\n",
              "BBRR1_FED_UG_NOPROG          0\n",
              "BBRR1_FED_UG_MAKEPROG        0\n",
              "BBRR1_FED_UG_PAIDINFULL      0\n",
              "BBRR1_FED_UG_DISCHARGE       0\n",
              "BBRR4_FED_UG_N               0\n",
              "BBRR4_FED_UG_DFLT            0\n",
              "BBRR4_FED_UG_DLNQ            0\n",
              "BBRR4_FED_UG_FBR             0\n",
              "BBRR4_FED_UG_DFR             0\n",
              "BBRR4_FED_UG_NOPROG          0\n",
              "BBRR4_FED_UG_MAKEPROG        0\n",
              "BBRR4_FED_UG_PAIDINFULL      0\n",
              "BBRR4_FED_UG_DISCHARGE       0\n",
              "dtype: int64"
            ],
            "text/html": [
              "<div>\n",
              "<style scoped>\n",
              "    .dataframe tbody tr th:only-of-type {\n",
              "        vertical-align: middle;\n",
              "    }\n",
              "\n",
              "    .dataframe tbody tr th {\n",
              "        vertical-align: top;\n",
              "    }\n",
              "\n",
              "    .dataframe thead th {\n",
              "        text-align: right;\n",
              "    }\n",
              "</style>\n",
              "<table border=\"1\" class=\"dataframe\">\n",
              "  <thead>\n",
              "    <tr style=\"text-align: right;\">\n",
              "      <th></th>\n",
              "      <th>0</th>\n",
              "    </tr>\n",
              "  </thead>\n",
              "  <tbody>\n",
              "    <tr>\n",
              "      <th>CONTROL</th>\n",
              "      <td>0</td>\n",
              "    </tr>\n",
              "    <tr>\n",
              "      <th>REGION</th>\n",
              "      <td>0</td>\n",
              "    </tr>\n",
              "    <tr>\n",
              "      <th>LOCALE</th>\n",
              "      <td>495</td>\n",
              "    </tr>\n",
              "    <tr>\n",
              "      <th>CCBASIC</th>\n",
              "      <td>495</td>\n",
              "    </tr>\n",
              "    <tr>\n",
              "      <th>CCUGPROF</th>\n",
              "      <td>495</td>\n",
              "    </tr>\n",
              "    <tr>\n",
              "      <th>CCSIZSET</th>\n",
              "      <td>495</td>\n",
              "    </tr>\n",
              "    <tr>\n",
              "      <th>PREDDEG</th>\n",
              "      <td>0</td>\n",
              "    </tr>\n",
              "    <tr>\n",
              "      <th>HIGHDEG</th>\n",
              "      <td>0</td>\n",
              "    </tr>\n",
              "    <tr>\n",
              "      <th>TUITFTE</th>\n",
              "      <td>524</td>\n",
              "    </tr>\n",
              "    <tr>\n",
              "      <th>INEXPFTE</th>\n",
              "      <td>524</td>\n",
              "    </tr>\n",
              "    <tr>\n",
              "      <th>BBRR1_FED_UG_N</th>\n",
              "      <td>0</td>\n",
              "    </tr>\n",
              "    <tr>\n",
              "      <th>BBRR1_FED_UG_DFLT</th>\n",
              "      <td>0</td>\n",
              "    </tr>\n",
              "    <tr>\n",
              "      <th>BBRR1_FED_UG_DLNQ</th>\n",
              "      <td>0</td>\n",
              "    </tr>\n",
              "    <tr>\n",
              "      <th>BBRR1_FED_UG_FBR</th>\n",
              "      <td>0</td>\n",
              "    </tr>\n",
              "    <tr>\n",
              "      <th>BBRR1_FED_UG_DFR</th>\n",
              "      <td>0</td>\n",
              "    </tr>\n",
              "    <tr>\n",
              "      <th>BBRR1_FED_UG_NOPROG</th>\n",
              "      <td>0</td>\n",
              "    </tr>\n",
              "    <tr>\n",
              "      <th>BBRR1_FED_UG_MAKEPROG</th>\n",
              "      <td>0</td>\n",
              "    </tr>\n",
              "    <tr>\n",
              "      <th>BBRR1_FED_UG_PAIDINFULL</th>\n",
              "      <td>0</td>\n",
              "    </tr>\n",
              "    <tr>\n",
              "      <th>BBRR1_FED_UG_DISCHARGE</th>\n",
              "      <td>0</td>\n",
              "    </tr>\n",
              "    <tr>\n",
              "      <th>BBRR4_FED_UG_N</th>\n",
              "      <td>0</td>\n",
              "    </tr>\n",
              "    <tr>\n",
              "      <th>BBRR4_FED_UG_DFLT</th>\n",
              "      <td>0</td>\n",
              "    </tr>\n",
              "    <tr>\n",
              "      <th>BBRR4_FED_UG_DLNQ</th>\n",
              "      <td>0</td>\n",
              "    </tr>\n",
              "    <tr>\n",
              "      <th>BBRR4_FED_UG_FBR</th>\n",
              "      <td>0</td>\n",
              "    </tr>\n",
              "    <tr>\n",
              "      <th>BBRR4_FED_UG_DFR</th>\n",
              "      <td>0</td>\n",
              "    </tr>\n",
              "    <tr>\n",
              "      <th>BBRR4_FED_UG_NOPROG</th>\n",
              "      <td>0</td>\n",
              "    </tr>\n",
              "    <tr>\n",
              "      <th>BBRR4_FED_UG_MAKEPROG</th>\n",
              "      <td>0</td>\n",
              "    </tr>\n",
              "    <tr>\n",
              "      <th>BBRR4_FED_UG_PAIDINFULL</th>\n",
              "      <td>0</td>\n",
              "    </tr>\n",
              "    <tr>\n",
              "      <th>BBRR4_FED_UG_DISCHARGE</th>\n",
              "      <td>0</td>\n",
              "    </tr>\n",
              "  </tbody>\n",
              "</table>\n",
              "</div><br><label><b>dtype:</b> int64</label>"
            ]
          },
          "metadata": {},
          "execution_count": 44
        }
      ]
    },
    {
      "cell_type": "code",
      "source": [
        "from sklearn.impute import SimpleImputer\n",
        "\n",
        "columns_to_impute = ['LOCALE', 'CCBASIC', 'CCUGPROF', 'CCSIZSET', 'TUITFTE', 'INEXPFTE']\n",
        "imputer = SimpleImputer(strategy=\"mean\")\n",
        "filtered_df[columns_to_impute] = imputer.fit_transform(filtered_df[columns_to_impute])\n",
        "\n",
        "filtered_df.isnull().sum()\n"
      ],
      "metadata": {
        "colab": {
          "base_uri": "https://localhost:8080/",
          "height": 1000
        },
        "id": "HOoDyJxFXBk5",
        "outputId": "d482a1b7-320e-427d-d584-dd20e4b2b124"
      },
      "execution_count": 45,
      "outputs": [
        {
          "output_type": "stream",
          "name": "stderr",
          "text": [
            "<ipython-input-45-b470e9262638>:5: SettingWithCopyWarning: \n",
            "A value is trying to be set on a copy of a slice from a DataFrame.\n",
            "Try using .loc[row_indexer,col_indexer] = value instead\n",
            "\n",
            "See the caveats in the documentation: https://pandas.pydata.org/pandas-docs/stable/user_guide/indexing.html#returning-a-view-versus-a-copy\n",
            "  filtered_df[columns_to_impute] = imputer.fit_transform(filtered_df[columns_to_impute])\n"
          ]
        },
        {
          "output_type": "execute_result",
          "data": {
            "text/plain": [
              "CONTROL                    0\n",
              "REGION                     0\n",
              "LOCALE                     0\n",
              "CCBASIC                    0\n",
              "CCUGPROF                   0\n",
              "CCSIZSET                   0\n",
              "PREDDEG                    0\n",
              "HIGHDEG                    0\n",
              "TUITFTE                    0\n",
              "INEXPFTE                   0\n",
              "BBRR1_FED_UG_N             0\n",
              "BBRR1_FED_UG_DFLT          0\n",
              "BBRR1_FED_UG_DLNQ          0\n",
              "BBRR1_FED_UG_FBR           0\n",
              "BBRR1_FED_UG_DFR           0\n",
              "BBRR1_FED_UG_NOPROG        0\n",
              "BBRR1_FED_UG_MAKEPROG      0\n",
              "BBRR1_FED_UG_PAIDINFULL    0\n",
              "BBRR1_FED_UG_DISCHARGE     0\n",
              "BBRR4_FED_UG_N             0\n",
              "BBRR4_FED_UG_DFLT          0\n",
              "BBRR4_FED_UG_DLNQ          0\n",
              "BBRR4_FED_UG_FBR           0\n",
              "BBRR4_FED_UG_DFR           0\n",
              "BBRR4_FED_UG_NOPROG        0\n",
              "BBRR4_FED_UG_MAKEPROG      0\n",
              "BBRR4_FED_UG_PAIDINFULL    0\n",
              "BBRR4_FED_UG_DISCHARGE     0\n",
              "dtype: int64"
            ],
            "text/html": [
              "<div>\n",
              "<style scoped>\n",
              "    .dataframe tbody tr th:only-of-type {\n",
              "        vertical-align: middle;\n",
              "    }\n",
              "\n",
              "    .dataframe tbody tr th {\n",
              "        vertical-align: top;\n",
              "    }\n",
              "\n",
              "    .dataframe thead th {\n",
              "        text-align: right;\n",
              "    }\n",
              "</style>\n",
              "<table border=\"1\" class=\"dataframe\">\n",
              "  <thead>\n",
              "    <tr style=\"text-align: right;\">\n",
              "      <th></th>\n",
              "      <th>0</th>\n",
              "    </tr>\n",
              "  </thead>\n",
              "  <tbody>\n",
              "    <tr>\n",
              "      <th>CONTROL</th>\n",
              "      <td>0</td>\n",
              "    </tr>\n",
              "    <tr>\n",
              "      <th>REGION</th>\n",
              "      <td>0</td>\n",
              "    </tr>\n",
              "    <tr>\n",
              "      <th>LOCALE</th>\n",
              "      <td>0</td>\n",
              "    </tr>\n",
              "    <tr>\n",
              "      <th>CCBASIC</th>\n",
              "      <td>0</td>\n",
              "    </tr>\n",
              "    <tr>\n",
              "      <th>CCUGPROF</th>\n",
              "      <td>0</td>\n",
              "    </tr>\n",
              "    <tr>\n",
              "      <th>CCSIZSET</th>\n",
              "      <td>0</td>\n",
              "    </tr>\n",
              "    <tr>\n",
              "      <th>PREDDEG</th>\n",
              "      <td>0</td>\n",
              "    </tr>\n",
              "    <tr>\n",
              "      <th>HIGHDEG</th>\n",
              "      <td>0</td>\n",
              "    </tr>\n",
              "    <tr>\n",
              "      <th>TUITFTE</th>\n",
              "      <td>0</td>\n",
              "    </tr>\n",
              "    <tr>\n",
              "      <th>INEXPFTE</th>\n",
              "      <td>0</td>\n",
              "    </tr>\n",
              "    <tr>\n",
              "      <th>BBRR1_FED_UG_N</th>\n",
              "      <td>0</td>\n",
              "    </tr>\n",
              "    <tr>\n",
              "      <th>BBRR1_FED_UG_DFLT</th>\n",
              "      <td>0</td>\n",
              "    </tr>\n",
              "    <tr>\n",
              "      <th>BBRR1_FED_UG_DLNQ</th>\n",
              "      <td>0</td>\n",
              "    </tr>\n",
              "    <tr>\n",
              "      <th>BBRR1_FED_UG_FBR</th>\n",
              "      <td>0</td>\n",
              "    </tr>\n",
              "    <tr>\n",
              "      <th>BBRR1_FED_UG_DFR</th>\n",
              "      <td>0</td>\n",
              "    </tr>\n",
              "    <tr>\n",
              "      <th>BBRR1_FED_UG_NOPROG</th>\n",
              "      <td>0</td>\n",
              "    </tr>\n",
              "    <tr>\n",
              "      <th>BBRR1_FED_UG_MAKEPROG</th>\n",
              "      <td>0</td>\n",
              "    </tr>\n",
              "    <tr>\n",
              "      <th>BBRR1_FED_UG_PAIDINFULL</th>\n",
              "      <td>0</td>\n",
              "    </tr>\n",
              "    <tr>\n",
              "      <th>BBRR1_FED_UG_DISCHARGE</th>\n",
              "      <td>0</td>\n",
              "    </tr>\n",
              "    <tr>\n",
              "      <th>BBRR4_FED_UG_N</th>\n",
              "      <td>0</td>\n",
              "    </tr>\n",
              "    <tr>\n",
              "      <th>BBRR4_FED_UG_DFLT</th>\n",
              "      <td>0</td>\n",
              "    </tr>\n",
              "    <tr>\n",
              "      <th>BBRR4_FED_UG_DLNQ</th>\n",
              "      <td>0</td>\n",
              "    </tr>\n",
              "    <tr>\n",
              "      <th>BBRR4_FED_UG_FBR</th>\n",
              "      <td>0</td>\n",
              "    </tr>\n",
              "    <tr>\n",
              "      <th>BBRR4_FED_UG_DFR</th>\n",
              "      <td>0</td>\n",
              "    </tr>\n",
              "    <tr>\n",
              "      <th>BBRR4_FED_UG_NOPROG</th>\n",
              "      <td>0</td>\n",
              "    </tr>\n",
              "    <tr>\n",
              "      <th>BBRR4_FED_UG_MAKEPROG</th>\n",
              "      <td>0</td>\n",
              "    </tr>\n",
              "    <tr>\n",
              "      <th>BBRR4_FED_UG_PAIDINFULL</th>\n",
              "      <td>0</td>\n",
              "    </tr>\n",
              "    <tr>\n",
              "      <th>BBRR4_FED_UG_DISCHARGE</th>\n",
              "      <td>0</td>\n",
              "    </tr>\n",
              "  </tbody>\n",
              "</table>\n",
              "</div><br><label><b>dtype:</b> int64</label>"
            ]
          },
          "metadata": {},
          "execution_count": 45
        }
      ]
    },
    {
      "cell_type": "markdown",
      "source": [
        "# **Analysis Plan**"
      ],
      "metadata": {
        "id": "xAzFwgPTnEM0"
      }
    },
    {
      "cell_type": "markdown",
      "source": [
        "The data preparation phase of the project uncovered a more granular insight into the team's data. The team had far too many features (over 5000) and was able to reduce them to under 100, as explained above. Additionally, the team imputed null values as we saw fit (columns with <10% nulls). Finally, the team utilized VarianceThreshold to drop any additional features with a variance <0.01. The team then conducted an in-depth EDA phase to explore how the dataset's features interact and to understand how the data is shaped.\n",
        "\n",
        "The next step is to perform a detailed analysis of the data, through clustering techniques and dimensionality reduction, with the goal of developing an optimized model to identify colleges that provide the best value for money.\n",
        "\n",
        "For clustering, the team will now compare K-Means and Hierarchical Clustering and evaluate the performance of the methods using the Silhouette Score to measure cluster cohesion and separation. Dendrogram Analysis will also visualize how clusters merge at different distances. Since the team does not know the optimal number of clusters, they will use the Elbow Method to analyze inertia for different values of k. Additionally, the team will experiment with different linkage methods in hierarchical clustering, including MIN, MAX, and Ward’s Method, to determine the most effective clustering structure. Since K-Means performance depends on initialization, the team will test different initialization techniques to improve clustering quality. The team will implement K-Means++, which aims to improve the quality of the clustering through smarter initializations¹. Additionally, the team will explore the Maxim (Furthest Point Heuristic) Initialization, which has been shown to reduce erroneous clusters from 15% to 6% if there is a need after experimenting with K-Means++².\n",
        "\n",
        "The team will then move on to the dimensionality reduction stage, utilizing PCA, t-SNE, and UMAP as the primary methods. Since the team discovered the data shape as non-linear, they will primarily focus on t-SNE and UMAP, as PCA is better suited for linear data³. t-SNE is effective at preserving local relationships within the data and has been widely used in high-dimensional clustering applications⁴. However, it does not maintain global structures as well as UMAP, which offers superior computational efficiency and scalability for large datasets⁵. By applying these techniques, the team aims to visualize the data structure and improve clustering results by reducing noise from redundant features.\n",
        "\n",
        "-------------------------------------------------------------------------------\n",
        "\n",
        "<small> ¹ GeeksforGeeks. ML | KMEANS++ Algorithm. March 21, 2024. https://www.geeksforgeeks.org/ml-k-means-algorithm/.\n",
        "\n",
        "<small> ² Fränti, P., & Ieranoja, S. “How Much Can K-Means Be Improved by Using Better Initialization and Repeats?” Pattern Recognition 93 (2019): 95–112. https://www.sciencedirect.com/science/article/pii/S0031320319301608.\n",
        "\n",
        "<small> ³ Jolliffe, Ian T., and Jorge Cadima. \"Principal Component Analysis: A Review and Recent Developments.\" Philosophical Transactions of the Royal Society A 374, no. 2065 (2016): 20150202. https://doi.org/10.1098/rsta.2015.0202.\n",
        "\n",
        "<small> ⁴ van der Maaten, Laurens, and Geoffrey Hinton. “Visualizing Data Using t-SNE.” Journal of Machine Learning Research 9 (2008): 2579–2605. https://www.jmlr.org/papers/volume9/vandermaaten08a/vandermaaten08a.pdf.\n",
        "\n",
        "<small> ⁵ McInnes, Leland, John Healy, and James Melville. \"UMAP: Uniform Manifold Approximation and Projection for Dimension Reduction.\" arXiv preprint arXiv:1802.03426 (2018). https://arxiv.org/abs/1802.03426.\n"
      ],
      "metadata": {
        "id": "jWBb-Qa6nUKv"
      }
    },
    {
      "cell_type": "code",
      "source": [],
      "metadata": {
        "id": "r8qOIH58phrs"
      },
      "execution_count": null,
      "outputs": []
    }
  ]
}